{
 "cells": [
  {
   "cell_type": "markdown",
   "metadata": {
    "colab_type": "text",
    "id": "Bnj3THhzfBLf"
   },
   "source": [
    "## 0. Install and Import modules"
   ]
  },
  {
   "cell_type": "markdown",
   "metadata": {},
   "source": [
    "https://towardsdatascience.com/how-to-render-3d-files-using-pytorch3d-ef9de72483f8\n",
    "\n",
    "https://github.com/codingforpleasure/collection_of_pytorch_helpful_stuff\n",
    "\n",
    "https://docs.pyvista.org/examples/01-filter/voxelize.html"
   ]
  },
  {
   "cell_type": "markdown",
   "metadata": {
    "colab_type": "text",
    "id": "okLalbR_g7NS"
   },
   "source": [
    "Ensure `torch` and `torchvision` are installed. If `pytorch3d` is not installed, install it using the following cell:"
   ]
  },
  {
   "cell_type": "code",
   "execution_count": null,
   "metadata": {
    "colab": {
     "base_uri": "https://localhost:8080/",
     "height": 717
    },
    "colab_type": "code",
    "id": "musUWTglgxSB",
    "outputId": "16d1a1b2-3f7f-43ed-ca28-a4d236cc0572"
   },
   "outputs": [],
   "source": [
    "import os\n",
    "import sys\n",
    "import torch\n",
    "import matplotlib.pyplot as plt\n",
    "try:\n",
    "    import pytorch3d\n",
    "except ModuleNotFoundError:\n",
    "    print(\"pytorch3d missing\")\n",
    "\n",
    "# Util function for loading meshes\n",
    "from pytorch3d.io import load_objs_as_meshes, load_obj\n",
    "\n",
    "# Data structures and functions for rendering\n",
    "from pytorch3d.structures import Meshes\n",
    "from pytorch3d.vis.plotly_vis import AxisArgs, plot_batch_individually, plot_scene\n",
    "from pytorch3d.vis.texture_vis import texturesuv_image_matplotlib\n",
    "from pytorch3d.renderer import (\n",
    "    look_at_view_transform,\n",
    "    FoVPerspectiveCameras, \n",
    "    PointLights, \n",
    "    DirectionalLights, \n",
    "    Materials, \n",
    "    RasterizationSettings, \n",
    "    MeshRenderer, \n",
    "    MeshRasterizer,  \n",
    "    SoftPhongShader,\n",
    "    TexturesUV,\n",
    "    TexturesVertex\n",
    ")\n",
    "\n",
    "sys.path.append(os.path.abspath(''))\n",
    "from utils import image_grid"
   ]
  },
  {
   "cell_type": "markdown",
   "metadata": {
    "colab_type": "text",
    "id": "5jGq772XfBLk"
   },
   "source": [
    "### 1. Load a mesh and texture file\n",
    "\n",
    "Load an `.obj` file and its associated `.mtl` file and create a **Textures** and **Meshes** object. \n",
    "\n",
    "**Meshes** is a unique datastructure provided in PyTorch3D for working with batches of meshes of different sizes. \n",
    "\n",
    "**TexturesUV** is an auxiliary datastructure for storing vertex uv and texture maps for meshes. \n",
    "\n",
    "**Meshes** has several class methods which are used throughout the rendering pipeline."
   ]
  },
  {
   "cell_type": "code",
   "execution_count": null,
   "metadata": {
    "colab": {},
    "colab_type": "code",
    "id": "gi5Kd0GafBLl"
   },
   "outputs": [],
   "source": [
    "# Setup\n",
    "if torch.cuda.is_available():\n",
    "    device = torch.device(\"cuda:0\")\n",
    "    torch.cuda.set_device(device)\n",
    "else:\n",
    "    device = torch.device(\"cpu\")\n",
    "\n",
    "# Set paths\n",
    "DATA_DIR = \"./data\"\n",
    "obj_filename = os.path.join(DATA_DIR, \"cow_mesh/cow.obj\")\n",
    "\n",
    "# Load obj file\n",
    "mesh = load_objs_as_meshes([obj_filename], device=device)"
   ]
  },
  {
   "cell_type": "markdown",
   "metadata": {
    "colab_type": "text",
    "id": "5APAQs6-fBLp"
   },
   "source": [
    "#### Let's visualize the texture map"
   ]
  },
  {
   "cell_type": "markdown",
   "metadata": {},
   "source": [
    "## 2. Mesh visualization \n",
    "If you only want to visualize a mesh, you don't really need to use a differentiable renderer - instead we support plotting of Meshes with plotly. For these Meshes, we use TexturesVertex to define a texture for the rendering.\n",
    "`plot_meshes` creates a Plotly figure with a trace for each Meshes object. "
   ]
  },
  {
   "cell_type": "code",
   "execution_count": null,
   "metadata": {},
   "outputs": [],
   "source": [
    "verts, faces_idx, _ = load_obj(obj_filename)\n",
    "faces = faces_idx.verts_idx\n",
    "\n",
    "# Initialize each vertex to be white in color.\n",
    "verts_rgb = torch.ones_like(verts)[None]  # (1, V, 3)\n",
    "textures = TexturesVertex(verts_features=verts_rgb.to(device))\n",
    "\n",
    "# Create a Meshes object\n",
    "mesh = Meshes(\n",
    "    verts=[verts.to(device)],   \n",
    "    faces=[faces.to(device)],\n",
    ")\n",
    "#  Shows camera positions\n",
    "R, T = look_at_view_transform(2.7, 0, [0,90,180,270]) # 2 camera angles, front and back\n",
    "# Any instance of CamerasBase works, here we use FoVPerspectiveCameras\n",
    "cameras = FoVPerspectiveCameras(device=device, R=R, T=T)\n",
    "fig = plot_scene({\n",
    "    \"subplot1_title\": {\n",
    "        \"mesh_trace_title\": mesh,\n",
    "        \"cameras0\": cameras[0],\n",
    "        \"cameras1\": cameras[1],\n",
    "        \"cameras2\": cameras[2],\n",
    "        \"cameras3\": cameras[3],\n",
    "    },\n",
    "})\n",
    "fig.show()"
   ]
  },
  {
   "cell_type": "code",
   "execution_count": null,
   "metadata": {},
   "outputs": [],
   "source": [
    "from pytorch3d.io import IO\n",
    "\n",
    "# create a batch of meshes, and offset one to prevent overlap\n",
    "mesh_batch = Meshes(\n",
    "    verts=[verts.to(device), (5*verts+5).to(device)],   \n",
    "    faces=[faces.to(device), (faces).to(device)]\n",
    ")\n",
    "print(mesh_batch.verts_padded().reshape([1,2*2930, 3]).shape)\n",
    "print(mesh.verts_padded().shape)\n",
    "\n",
    "# print(mesh_batch.faces_padded().reshape([2*5856, 3]))\n",
    "\n",
    "mesh_merged = Meshes(\n",
    "    verts= mesh_batch.verts_padded().reshape([1,2*2930, 3]),   \n",
    "    faces=mesh_batch.faces_padded().reshape([1,2*5856, 3])\n",
    ")\n",
    "\n",
    "# IO().save_mesh(mesh_merged, \"moo.obj\")\n",
    "\n",
    "# Render the plotly figure\n",
    "# plot batch of meshes in different traces\n",
    "fig = plot_scene({\n",
    "    \"cow_plot1\": {\n",
    "        \"cow_mesh1\": mesh_batch[0],\n",
    "        \"cow_mesh2\": mesh_batch[1]\n",
    "    }\n",
    "},\n",
    "    xaxis={\"backgroundcolor\":\"rgb(200, 200, 230)\"},\n",
    "    yaxis={\"backgroundcolor\":\"rgb(230, 200, 200)\"},\n",
    "    zaxis={\"backgroundcolor\":\"rgb(200, 230, 200)\"}, \n",
    "    axis_args=AxisArgs(showgrid=True))\n",
    "\n",
    "fig.show()\n"
   ]
  },
  {
   "cell_type": "code",
   "execution_count": null,
   "metadata": {},
   "outputs": [],
   "source": [
    "# from utils.voxeliser.voxelizer import read_file_and_reshape_stl, voxelize\n",
    "\n",
    "# # path to the stl file\n",
    "# input_path = 'data\\cow_mesh\\cow.obj'\n",
    "# # number of voxels used to represent the largest dimension of the 3D model\n",
    "# resolution = 100\n",
    "\n",
    "# # read and rescale\n",
    "# mesh, bounding_box = read_file_and_reshape_stl(input_path, resolution)\n",
    "# # print(len(mesh[0]))\n",
    "# # create voxel array\n",
    "# voxels, bounding_box = voxelize(mesh, bounding_box)\n",
    "\n",
    "# # print(voxels)"
   ]
  },
  {
   "cell_type": "code",
   "execution_count": null,
   "metadata": {},
   "outputs": [],
   "source": [
    "import numpy as np\n",
    "\n",
    "import pyvista as pv\n",
    "pv.set_jupyter_backend('pythreejs')\n",
    "cowmesh = pv.read('data\\cow_mesh\\cow.obj') \n"
   ]
  },
  {
   "cell_type": "code",
   "execution_count": null,
   "metadata": {},
   "outputs": [],
   "source": [
    "voxels = pv.voxelize(cowmesh, density=cowmesh.length / 200, check_surface=False)\n",
    "p = pv.Plotter(notebook=True, window_size=(800, 800))\n",
    "p.add_mesh(voxels, color=True, show_edges=True, opacity=0.5 )\n",
    "p.add_mesh(cowmesh, color=\"lightblue\", opacity=0.5)\n",
    "p.add_mesh(pv.Box(), color=\"tan\", opacity=0.5)\n",
    "p.show()"
   ]
  },
  {
   "cell_type": "code",
   "execution_count": null,
   "metadata": {},
   "outputs": [],
   "source": [
    "import pyvista as pv\n",
    "import numpy as np\n",
    "import vtk\n",
    "from pyvista import examples\n",
    "pv.set_jupyter_backend('pythreejs')\n",
    "\n",
    "camera = pv.Camera()\n",
    "near_range = 0.3\n",
    "far_range = 0.8\n",
    "camera.clipping_range = (near_range, far_range)\n",
    "unit_vector = np.array(camera.direction) / np.linalg.norm(\n",
    "    np.array([camera.focal_point]) - np.array([camera.position])\n",
    ")\n",
    "\n",
    "frustum = camera.view_frustum(1.0)\n",
    "position = camera.position\n",
    "focal_point = camera.focal_point\n",
    "\n",
    "line = pv.Line(position, focal_point)\n",
    "# model = pv.Box(bounds=(-0.1, 0.1, -0.1, 0.1, -0.1, 0.1))\n",
    "model = pv.read('data\\cow_mesh\\cow.obj') \n",
    "\n",
    "voxels = pv.voxelize(model, density=model.length / 200, check_surface=False)\n",
    "\n",
    "xyz = camera.position + unit_vector * 0.6 - np.mean(model.points, axis=0)\n",
    "model.translate(xyz, inplace=True)\n",
    "voxels.translate(xyz, inplace=True)\n",
    "pl = pv.Plotter(window_size=(1200, 800))\n",
    "\n",
    "pl.add_mesh(voxels, color=True, show_edges=True, opacity=0.5 )\n",
    "pl.subplot(0, 0)\n",
    "pl.add_mesh(model, opacity=0.5)\n",
    "pl.add_mesh(frustum, style=\"wireframe\")\n",
    "pl.add_mesh(line, color=\"b\")\n",
    "\n",
    "pl.camera.position = (1.1, 1.5, 0.0)\n",
    "pl.camera.focal_point = (0.2, 0.3, 0.3)\n",
    "pl.camera.up = (0.0, 1.0, 0.0)\n",
    "pl.camera.zoom(0.5)\n",
    "\n",
    "# Changing pov\n",
    "# camera.zoom(0.5)\n",
    "# pl.camera = camera\n",
    "pl.show()"
   ]
  }
 ],
 "metadata": {
  "accelerator": "GPU",
  "anp_metadata": {
   "path": "notebooks/render_textured_meshes.ipynb"
  },
  "bento_stylesheets": {
   "bento/extensions/flow/main.css": true,
   "bento/extensions/kernel_selector/main.css": true,
   "bento/extensions/kernel_ui/main.css": true,
   "bento/extensions/new_kernel/main.css": true,
   "bento/extensions/system_usage/main.css": true,
   "bento/extensions/theme/main.css": true
  },
  "colab": {
   "name": "render_textured_meshes.ipynb",
   "provenance": []
  },
  "disseminate_notebook_info": {
   "backup_notebook_id": "569222367081034"
  },
  "kernelspec": {
   "display_name": "Python 3.9.13 ('projectv2')",
   "language": "python",
   "name": "python3"
  },
  "language_info": {
   "codemirror_mode": {
    "name": "ipython",
    "version": 3
   },
   "file_extension": ".py",
   "mimetype": "text/x-python",
   "name": "python",
   "nbconvert_exporter": "python",
   "pygments_lexer": "ipython3",
   "version": "3.9.13"
  },
  "vscode": {
   "interpreter": {
    "hash": "190e7941172beaab895f71431ffb6c10a296ace1270d17e37aa561ec32dd9424"
   }
  }
 },
 "nbformat": 4,
 "nbformat_minor": 1
}
