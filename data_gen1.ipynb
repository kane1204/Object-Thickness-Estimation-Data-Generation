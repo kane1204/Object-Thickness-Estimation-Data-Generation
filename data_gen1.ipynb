{
 "cells": [
  {
   "cell_type": "code",
   "execution_count": 143,
   "metadata": {},
   "outputs": [],
   "source": [
    "# # Get data from SOLR and save it to a file\n",
    "# from urllib.request import urlopen\n",
    "# import json\n",
    "# connection = urlopen('https://shapenet.org/solr/models3d/select?q=datasets%3AShapeNetCore+AND+wnhypersynsets%3A02828884&rows=100000&fl=fullId%2Ccategory%2Cwnsynset%2Cwnlemmas%2Cup%2Cfront%2Cunit%2Caligned.dims&wt=json&indent=true')\n",
    "# response = json.load(connection)\n",
    "# print(response['response']['numFound'], \"documents found.\")\n",
    "# print(response)\n",
    "# Print the name of each document.\n",
    "\n",
    "# for doc in response['response']['docs']:\n",
    "#   print(doc)\n",
    "\n",
    "# with open('data.json', 'w') as outfile:\n",
    "#     json.dump(response, outfile)\n"
   ]
  },
  {
   "cell_type": "code",
   "execution_count": 144,
   "metadata": {},
   "outputs": [
    {
     "name": "stderr",
     "output_type": "stream",
     "text": [
      "Loading Models: 100%|██████████| 45/45 [00:00<00:00, 405.40it/s]\n"
     ]
    }
   ],
   "source": [
    "from pyvista import examples\n",
    "from src.model_loader import ModelLoader \n",
    "import numpy as np\n",
    "import pyvista as pv\n",
    "from math import dist\n",
    "import numpy as np\n",
    "import math\n",
    "\n",
    "DATA_ROOT = \"data\\\\shapenet_core_JK\"\n",
    "IMAGE_RES = 256    \n",
    "WINDOWSIZE = 256\n",
    "\n",
    "def outRayFinder(pts):\n",
    "    if len(pts) == 0:\n",
    "            return None, None\n",
    "        # Find the first element in pts that is differnt from pts[0] and return that point onelin\n",
    "    if len(pts) > 2:\n",
    "        points = pts\n",
    "        # Create a unique list of 3d points \n",
    "        points = np.unique(pts, axis=0)\n",
    "        # Bug here with the idx bit\n",
    "        check = np.where(np.isclose(points, points[0])  != [True, True, True])[0]\n",
    "        leng = len(check)\n",
    "        if leng < 1:\n",
    "            return None, None\n",
    "        if leng == 1:\n",
    "            idx = check[0]\n",
    "        elif leng == 2:\n",
    "            idx = check[1]\n",
    "        elif leng >= 3:\n",
    "            idx = check[round(leng/2)]\n",
    "        return pts[0], pts[idx] # This does have some slight issues given a parallel intersection and no easy way of verifying if its an out ray or not so we naively return the last point\n",
    "\n",
    "    elif len(pts) == 2:\n",
    "        return pts[0], pts[1]\n",
    "    else:\n",
    "        return None,None\n",
    "    \n",
    "def createBaseMesh(mesh):#\n",
    "    # Add a thin box below the mesh\n",
    "    bounds = mesh.bounds\n",
    "    rnge = (bounds[1] - bounds[0], bounds[5] - bounds[4], bounds[3] - bounds[2]) # x z y\n",
    "    # print(rnge)\n",
    "\n",
    "    expand = 10\n",
    "    height = rnge[2] * 1.5\n",
    "    center = np.array(mesh.center)\n",
    "    center -= [0, mesh.center[2] + (bounds[3] + (height)) , 0]\n",
    "\n",
    "    width = rnge[0] * (1 + expand)\n",
    "    length = rnge[1] * (1 + expand)\n",
    "    base_mesh = pv.Cube(center, width, height, length)\n",
    "    # base_mesh.rotate_x(-90, inplace=True)\n",
    "    return base_mesh\n",
    "\n",
    "data = ModelLoader(DATA_ROOT)"
   ]
  },
  {
   "cell_type": "code",
   "execution_count": 145,
   "metadata": {},
   "outputs": [],
   "source": [
    "# Model Augmentation\n",
    "rotation = 180\n",
    "catagory = \"02958343\"\n",
    "id_ = 9\n",
    "\n",
    "# Load Data Paths\n",
    "tex_path = data.get_model_paths()[catagory][id_].get_texture(0)\n",
    "if tex_path is not None:\n",
    "    obj_texture = pv.read_texture(tex_path)\n",
    "obj_mesh = pv.read(data.get_model_paths()[catagory][id_].get_obj_path()).triangulate() \n",
    "# create a box mesh with an edge at the origin\n",
    "# obj_mesh = pv.Cube(center=(1,0,0))\n",
    "# obj_mesh = pv.read(\"src\\\\binvox2mesh_1675368029.1254432\\\\mesh.stl\")\n",
    "\n",
    "# \n",
    "base_mesh = createBaseMesh(obj_mesh)\n",
    "obj_mesh.rotate_vector(vector=(0, 1, 0), angle=rotation, inplace=True)\n",
    "obj_texture= None\n",
    "# Camera Setup\n",
    "# dist_limit = -1\n",
    "camera = pv.Camera()\n",
    "# Camera Pos X(-5.0 to 5.0), Y(0.0 to 2.0), Z(0.0 to 5.0)\n",
    "camera.position = (1, 2.5, -1.5)\n",
    "\n",
    "near_range = 0.3\n",
    "far_range = 5\n",
    "camera.clipping_range = (near_range, far_range)\n",
    "c_pos = np.array(camera.position)\n",
    "\n",
    "# obj_mesh = fast_simplification.simplify_mesh(obj_mesh, target_reduction=0.1)\n",
    "# # Calculates the mesh intersection of obj_mesh\n",
    "# position = camera.GetViewPlaneNormal()\n",
    "# end = (camera.position[0]*dist_limit, camera.position[1]*dist_limit,camera.position[2]*dist_limit)\n",
    "# line = pv.Line(pointa=position, pointb=end, resolution= 1)\n",
    "# points1, ind1 = obj_mesh.ray_trace(position, end)\n",
    "\n",
    "# in1, out1 = outRayFinder(points1)\n",
    "# print(\"Red Thickness:\", dist(in1, out1) if (not in1 is None) else 0, \"PTS =\", in1, out1)"
   ]
  },
  {
   "cell_type": "code",
   "execution_count": 146,
   "metadata": {},
   "outputs": [
    {
     "data": {
      "text/plain": [
       "'data\\\\shapenet_core_JK\\\\02958343\\\\d9034b15c7f295551a46c391b387480b\\\\models\\\\model_normalized.obj'"
      ]
     },
     "execution_count": 146,
     "metadata": {},
     "output_type": "execute_result"
    }
   ],
   "source": [
    "data.get_model_paths()[catagory][id_].get_obj_path()"
   ]
  },
  {
   "cell_type": "code",
   "execution_count": 147,
   "metadata": {},
   "outputs": [],
   "source": [
    "frustum = camera.view_frustum().copy()\n",
    "plane = camera.view_frustum().copy()\n",
    "# Furthest Frustum\n",
    "plane = plane.extract_points(1)\n",
    "plane = plane.extract_points(2)\n",
    "plane = plane.extract_points(3)\n",
    "# Inner Frustum\n",
    "# plane = plane.extract_points(4)\n",
    "# plane = plane.extract_points(5)\n",
    "# plane.points"
   ]
  },
  {
   "cell_type": "code",
   "execution_count": 148,
   "metadata": {},
   "outputs": [],
   "source": [
    "# Given the corners of a squrare in 3d space, this function will return a grid of 3d points that are evenly spaced n x n x 1\n",
    "def planeToGrid(frustum, n, center=None):\n",
    "    # Find the center of the plane\n",
    "    if center is not None:\n",
    "        center = center\n",
    "    else:\n",
    "        center = frustum.center\n",
    "\n",
    "    corners = frustum.points\n",
    "    # Find the normal of the plane\n",
    "    normal = np.cross(corners[1] - corners[0], corners[2] - corners[0])\n",
    "    normal /= np.linalg.norm(normal)\n",
    "\n",
    "    # Find the width and height of the plane\n",
    "    width = dist(corners[0], corners[1])\n",
    "    height = dist(corners[0], corners[3])\n",
    "\n",
    "    # Create a grid of points that are evenly spaced\n",
    "    grid = pv.Plane(center, normal, width, height, i_resolution=n-1, j_resolution=n-1)\n",
    "    return grid, grid.ctp() # ctp = cell to point\n",
    "    \n",
    "\n",
    "_, end_ray_pts = planeToGrid(plane, IMAGE_RES)\n"
   ]
  },
  {
   "cell_type": "code",
   "execution_count": 149,
   "metadata": {},
   "outputs": [
    {
     "data": {
      "application/vnd.jupyter.widget-view+json": {
       "model_id": "196b5337cfa14ff496cadac4665e609d",
       "version_major": 2,
       "version_minor": 0
      },
      "text/plain": [
       "Renderer(camera=PerspectiveCamera(children=(DirectionalLight(intensity=0.25, position=(0.0, 0.0, 100000.0), qu…"
      ]
     },
     "metadata": {},
     "output_type": "display_data"
    }
   ],
   "source": [
    "pv.global_theme.background = (135, 206, 235)\n",
    "pv.global_theme.smooth_shading = True\n",
    "pv.global_theme.anti_aliasing = 'fxaa'\n",
    "pv.set_jupyter_backend('pythreejs')\n",
    "\n",
    "screenshot = False\n",
    "\n",
    "show_edges = False\n",
    "# show_pts = False\n",
    "# show_planes = False\n",
    "\n",
    "# \n",
    "\n",
    "\n",
    "# Plotting/Screenshot Code\n",
    "pl = pv.Plotter(window_size=[WINDOWSIZE, WINDOWSIZE]) \n",
    "pl.enable_eye_dome_lighting()\n",
    "# Adds Object Meshes\n",
    "try:\n",
    "    obj = pl.add_mesh(obj_mesh, show_edges=show_edges, texture=obj_texture )\n",
    "except :\n",
    "    print(\"Textures Not Working!\")\n",
    "    obj = pl.add_mesh(obj_mesh, show_edges=show_edges, color=\"orange\" )\n",
    "# _ = pl.add_mesh(plane, style=\"wireframe\",color=\"blue\")\n",
    "# _ = pl.add_mesh(frustum, style=\"wireframe\",color=\"red\")\n",
    "\n",
    "# if in1 is not None:\n",
    "#     intersect11 = pv.Plane(center = in1, direction = (1,0,0))\n",
    "#     intersect12 = pv.Plane(center = out1, direction = (1,0,0))\n",
    "\n",
    "#     if show_planes:\n",
    "#         _ = pl.add_mesh(intersect11, color='r', opacity=0.5)\n",
    "#         _ = pl.add_mesh(intersect12, color='r', opacity=0.5)\n",
    "#     if show_pts:\n",
    "#         _ = pl.add_points(in1, color='blue', point_size=50)\n",
    "#         _ = pl.add_points(out1, color='blue', point_size= 50)\n",
    "_ = pl.add_mesh(base_mesh,color='green')\n",
    "pl.camera = camera\n",
    "\n",
    "# _ = pl.add_points(c_pos, color='red', point_size=10)\n",
    "# _ = pl.add_points(end_ray_pts.points[1], color='white', point_size=1)\n",
    "# _ = pl.add_points(start_ray_pts, color='white', point_size=1)\n",
    "# points = np.array([c_pos, end_ray_pts.points[1]])\n",
    "# actor = pl.add_lines(points, color='yellow', width=3)\n",
    "if screenshot:\n",
    "    # Screenshot code\n",
    "    pl.screenshot()\n",
    "    depth_img = pl.get_image_depth(fill_value=0)\n",
    "    _ = pl.add_mesh(base_mesh,color='green')\n",
    "    pl.ren_win.SetOffScreenRendering(5)\n",
    "    img = pl.screenshot(\"result/moomoo.png\",transparent_background=True, \n",
    "                        window_size=[IMAGE_RES,int(IMAGE_RES*pl.window_size[1]/pl.window_size[0])])\n",
    "    \n",
    "else:\n",
    "    pl.show_axes()\n",
    "    pl.show()"
   ]
  },
  {
   "cell_type": "code",
   "execution_count": 150,
   "metadata": {},
   "outputs": [
    {
     "ename": "NameError",
     "evalue": "name 'depth_img' is not defined",
     "output_type": "error",
     "traceback": [
      "\u001b[1;31m---------------------------------------------------------------------------\u001b[0m",
      "\u001b[1;31mNameError\u001b[0m                                 Traceback (most recent call last)",
      "Cell \u001b[1;32mIn [150], line 5\u001b[0m\n\u001b[0;32m      2\u001b[0m photo \u001b[39m=\u001b[39m plt\u001b[39m.\u001b[39mimread(\u001b[39m\"\u001b[39m\u001b[39mresult/moomoo.png\u001b[39m\u001b[39m\"\u001b[39m)\n\u001b[0;32m      4\u001b[0m plt\u001b[39m.\u001b[39mfigure()\n\u001b[1;32m----> 5\u001b[0m plt\u001b[39m.\u001b[39mimshow(depth_img\u001b[39m*\u001b[39m\u001b[39m-\u001b[39m\u001b[39m1\u001b[39m)\n\u001b[0;32m      6\u001b[0m \u001b[39m# plt.imshow(photo, alpha=0.5)\u001b[39;00m\n\u001b[0;32m      7\u001b[0m plt\u001b[39m.\u001b[39mcolorbar(label\u001b[39m=\u001b[39m\u001b[39m'\u001b[39m\u001b[39mDistance to Camera\u001b[39m\u001b[39m'\u001b[39m)\n",
      "\u001b[1;31mNameError\u001b[0m: name 'depth_img' is not defined"
     ]
    },
    {
     "data": {
      "text/plain": [
       "<Figure size 640x480 with 0 Axes>"
      ]
     },
     "metadata": {},
     "output_type": "display_data"
    }
   ],
   "source": [
    "import matplotlib.pyplot as plt\n",
    "photo = plt.imread(\"result/moomoo.png\")\n",
    "\n",
    "plt.figure()\n",
    "plt.imshow(depth_img*-1)\n",
    "# plt.imshow(photo, alpha=0.5)\n",
    "plt.colorbar(label='Distance to Camera')\n",
    "plt.set_cmap('cividis')\n",
    "plt.title('Depth image')\n",
    "plt.xlabel('X Pixel')\n",
    "plt.ylabel('Y Pixel')\n",
    "plt.show()"
   ]
  },
  {
   "cell_type": "code",
   "execution_count": null,
   "metadata": {},
   "outputs": [
    {
     "name": "stderr",
     "output_type": "stream",
     "text": [
      "100%|██████████| 65536/65536 [01:54<00:00, 570.82it/s] \n"
     ]
    }
   ],
   "source": [
    "from tqdm import tqdm\n",
    "jeff = []\n",
    "thicc_map = np.zeros((IMAGE_RES*IMAGE_RES))\n",
    "for i in tqdm(range(len(end_ray_pts.points))):\n",
    "    # Calculate ray intersection of each point in the grid\n",
    "    points, _ = obj_mesh.ray_trace(c_pos, end_ray_pts.points[i])\n",
    "    in1, out1 = outRayFinder(points)\n",
    "    thicc_map[i] = dist(in1, out1) if (not in1 is None) else 0\n",
    "\n",
    "thicc_map = np.flip(thicc_map.reshape(IMAGE_RES, IMAGE_RES))"
   ]
  },
  {
   "cell_type": "code",
   "execution_count": null,
   "metadata": {},
   "outputs": [
    {
     "data": {
      "image/png": "[encoded data removed]",
      "text/plain": [
       "<Figure size 640x480 with 2 Axes>"
      ]
     },
     "metadata": {},
     "output_type": "display_data"
    }
   ],
   "source": [
    "import matplotlib.pyplot as plt\n",
    "photo = plt.imread(\"result/moomoo.png\")\n",
    "\n",
    "plt.figure()\n",
    "# plt.imshow(photo, alpha=1)\n",
    "\n",
    "plt.imshow(thicc_map, alpha=1)\n",
    "\n",
    "plt.colorbar(label='Thichness of Moo Moo')\n",
    "# plt.set_cmap('cividis')\n",
    "plt.title('Thicc Image')\n",
    "plt.xlabel('X Pixel')\n",
    "plt.ylabel('Y Pixel')\n",
    "plt.show()"
   ]
  },
  {
   "cell_type": "code",
   "execution_count": null,
   "metadata": {},
   "outputs": [],
   "source": [
    "thicc_map2 = np.zeros((IMAGE_RES*IMAGE_RES))\n",
    "# https://docs.pyvista.org/user-guide/optional_features.html#vectorised-ray-tracing\n",
    "# https://pyvista.github.io/fast-simplification/_autosummary/fast_simplification.simplify_mesh.html\n",
    "# create list of c_pos \n",
    "\n",
    "# origins = [[-5. , 10.5, -4.5]] *len(end_ray_pts.points)\n",
    "# aos = np.array([c_pos]*len(end_ray_pts.points))\n",
    "# directions = end_ray_pts.points-aos\n",
    "# points , rays, cells = obj_mesh.multi_ray_trace(origins, directions, retry=True)\n",
    "\n",
    "# for i in range(len(end_ray_pts.points)):\n",
    "#     in1, out1 = outRayFinder(points2[i])\n",
    "#     thicc_map2[i] = dist(in1, out1) if (not in1 is None) else 0\n",
    "\n",
    "# thicc_map2 = np.flip(thicc_map2.reshape(IMAGE_RES, IMAGE_RES))"
   ]
  },
  {
   "cell_type": "code",
   "execution_count": null,
   "metadata": {},
   "outputs": [],
   "source": [
    "# import pyembree\n",
    "# import trimesh\n",
    "# thicc_map2 = np.zeros((IMAGE_RES*IMAGE_RES))\n",
    "# # https://docs.pyvista.org/user-guide/optional_features.html#vectorised-ray-tracing\n",
    "# # https://pyvista.github.io/fast-simplification/_autosummary/fast_simplification.simplify_mesh.html\n",
    "# # create list of c_pos \n",
    "# aos = np.array([c_pos]*len(end_ray_pts.points))\n",
    "# directions = end_ray_pts.points-aos\n",
    "# origins = np.asarray(aos)\n",
    "# directions = np.asarray(directions)\n",
    "# faces_as_array = obj_mesh.faces.reshape((obj_mesh.n_faces, 4))[:, 1:]\n",
    "# tmesh = trimesh.Trimesh(obj_mesh.points, faces_as_array)\n",
    "# intersector  = pyembree.RayMeshIntersector(mesh = tmesh)\n",
    "# (index_tri, index_ray, locations) = intersector.intersects_id(\n",
    "#              ray_origins=aos,\n",
    "#              ray_directions=directions,\n",
    "#              multiple_hits=True,\n",
    "#              return_locations=True)"
   ]
  }
 ],
 "metadata": {
  "kernelspec": {
   "display_name": "projectv2",
   "language": "python",
   "name": "python3"
  },
  "language_info": {
   "codemirror_mode": {
    "name": "ipython",
    "version": 3
   },
   "file_extension": ".py",
   "mimetype": "text/x-python",
   "name": "python",
   "nbconvert_exporter": "python",
   "pygments_lexer": "ipython3",
   "version": "3.9.13"
  },
  "orig_nbformat": 4,
  "vscode": {
   "interpreter": {
    "hash": "270a635b83e65d335eba5d097089b0ff08369f0634f543893019998ee28e2990"
   }
  }
 },
 "nbformat": 4,
 "nbformat_minor": 2
}
