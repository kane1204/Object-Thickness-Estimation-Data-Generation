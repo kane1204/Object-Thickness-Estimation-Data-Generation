{
 "cells": [
  {
   "cell_type": "code",
   "execution_count": null,
   "metadata": {},
   "outputs": [],
   "source": [
    "import numpy as np\n",
    "\n",
    "import pyvista\n",
    "from pyvista import examples\n",
    "\n",
    "mesh = examples.download_dragon()\n",
    "mesh.rotate_x(90, inplace=True)\n",
    "mesh.rotate_z(120, inplace=True)"
   ]
  },
  {
   "cell_type": "code",
   "execution_count": null,
   "metadata": {},
   "outputs": [],
   "source": [
    "light1 = pyvista.Light(\n",
    "    position=(0, 0.2, 1.0),\n",
    "    focal_point=(0, 0, 0),\n",
    "    color=[1.0, 1.0, 0.9843, 1.0],  # Color temp. 5400 K\n",
    "    intensity=0.3,\n",
    ")\n",
    "\n",
    "light2 = pyvista.Light(\n",
    "    position=(0, 1.0, 1.0),\n",
    "    focal_point=(0, 0, 0),\n",
    "    color=[1.0, 0.83921, 0.6666, 1.0],  # Color temp. 2850 K\n",
    "    intensity=1,\n",
    ")\n",
    "\n",
    "# Add a thin box below the mesh\n",
    "bounds = mesh.bounds\n",
    "rnge = (bounds[1] - bounds[0], bounds[3] - bounds[2], bounds[5] - bounds[4])\n",
    "\n",
    "expand = 1.0\n",
    "height = rnge[2] * 0.05\n",
    "center = np.array(mesh.center)\n",
    "center -= [0, 0, mesh.center[2] - bounds[4] + height / 2]\n",
    "\n",
    "width = rnge[0] * (1 + expand)\n",
    "length = rnge[1] * (1 + expand)\n",
    "base_mesh = pyvista.Cube(center, width, length, height)\n",
    "\n",
    "# rotate base and mesh to get a better view\n",
    "base_mesh.rotate_z(30, inplace=True)\n",
    "mesh.rotate_z(30, inplace=True)\n",
    "\n",
    "# create the plotter with custom lighting\n",
    "pl = pyvista.Plotter(lighting=None, window_size=(8000, 8000))\n",
    "pl.add_light(light1)\n",
    "pl.add_light(light2)\n",
    "pl.add_mesh(\n",
    "    mesh,\n",
    "    ambient=0.2,\n",
    "    diffuse=0.5,\n",
    "    specular=0.5,\n",
    "    specular_power=90,\n",
    "    smooth_shading=True,\n",
    "    color='orange',\n",
    ")\n",
    "pl.add_mesh(base_mesh)\n",
    "pl.enable_shadows()\n",
    "pl.camera.zoom(1.5)\n",
    "pl.show()"
   ]
  }
 ],
 "metadata": {
  "kernelspec": {
   "display_name": "projectv2",
   "language": "python",
   "name": "python3"
  },
  "language_info": {
   "codemirror_mode": {
    "name": "ipython",
    "version": 3
   },
   "file_extension": ".py",
   "mimetype": "text/x-python",
   "name": "python",
   "nbconvert_exporter": "python",
   "pygments_lexer": "ipython3",
   "version": "3.9.15 (main, Nov 24 2022, 14:39:17) [MSC v.1916 64 bit (AMD64)]"
  },
  "orig_nbformat": 4,
  "vscode": {
   "interpreter": {
    "hash": "d7b7aadcbec42ca046cddc8be2bef3620b6ef517ac2a3a696d4553a73bf8e44a"
   }
  }
 },
 "nbformat": 4,
 "nbformat_minor": 2
}
