{
 "cells": [
  {
   "cell_type": "code",
   "execution_count": null,
   "metadata": {},
   "outputs": [],
   "source": [
    "import matplotlib.pyplot as plt\n",
    "import numpy as np\n",
    "import os\n",
    "from src.frame import Frame\n",
    "filepath= \"data_20230210-162851\\\\02828884\\\\106494f75125eea6adf66a6d73888234\\\\frame_1\"\n",
    "img = plt.imread(os.path.join(filepath,\"img.png\"))\n",
    "depth_img = np.load(os.path.join(filepath,\"depth_map.npy\"))\n",
    "thicc_map = np.load(os.path.join(filepath,\"thicc_map.npy\"))\n",
    "c_pos = np.load(os.path.join(filepath,\"cam_pos.npy\"))\n",
    "frame = Frame(img, depth_img, thicc_map, c_pos)"
   ]
  },
  {
   "cell_type": "code",
   "execution_count": null,
   "metadata": {},
   "outputs": [],
   "source": [
    "print(frame)"
   ]
  },
  {
   "cell_type": "code",
   "execution_count": null,
   "metadata": {},
   "outputs": [],
   "source": [
    "plt.figure()\n",
    "plt.imshow(frame.img)\n",
    "\n",
    "plt.title('Image')\n",
    "plt.xlabel('X Pixel')\n",
    "plt.ylabel('Y Pixel')\n",
    "plt.show()"
   ]
  },
  {
   "cell_type": "code",
   "execution_count": null,
   "metadata": {},
   "outputs": [],
   "source": [
    "plt.figure()\n",
    "plt.imshow(frame.depth_map*-1)\n",
    "plt.colorbar(label='Distance to Camera')\n",
    "plt.set_cmap('hot')\n",
    "plt.title('Depth image')\n",
    "plt.xlabel('X Pixel')\n",
    "plt.ylabel('Y Pixel')\n",
    "plt.show()"
   ]
  },
  {
   "cell_type": "code",
   "execution_count": null,
   "metadata": {},
   "outputs": [],
   "source": [
    "plt.figure()\n",
    "\n",
    "plt.imshow(frame.thicc_map)\n",
    "\n",
    "plt.colorbar(label='Thichness of Object')\n",
    "plt.set_cmap('hot')\n",
    "plt.title('Thicc Image')\n",
    "plt.xlabel('X Pixel')\n",
    "plt.ylabel('Y Pixel')\n",
    "plt.show()"
   ]
  }
 ],
 "metadata": {
  "kernelspec": {
   "display_name": "projectv2",
   "language": "python",
   "name": "python3"
  },
  "language_info": {
   "codemirror_mode": {
    "name": "ipython",
    "version": 3
   },
   "file_extension": ".py",
   "mimetype": "text/x-python",
   "name": "python",
   "nbconvert_exporter": "python",
   "pygments_lexer": "ipython3",
   "version": "3.9.13"
  },
  "orig_nbformat": 4,
  "vscode": {
   "interpreter": {
    "hash": "190e7941172beaab895f71431ffb6c10a296ace1270d17e37aa561ec32dd9424"
   }
  }
 },
 "nbformat": 4,
 "nbformat_minor": 2
}
