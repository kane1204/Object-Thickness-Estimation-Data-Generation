{
 "cells": [
  {
   "cell_type": "code",
   "execution_count": null,
   "metadata": {},
   "outputs": [],
   "source": [
    "import numpy as np\n",
    "def outRayFinder(pts):\n",
    "    # Find the first element in pts that is differnt from pts[0] and return that point oneline\n",
    "    points = np.array(pts)\n",
    "    idx = np.where(np.isclose(points, points[0], rtol =0.1)  != [True, True, True])[0][1]\n",
    "    return pts[0], pts[idx]\n"
   ]
  },
  {
   "cell_type": "code",
   "execution_count": null,
   "metadata": {},
   "outputs": [],
   "source": [
    "import os\n",
    "import pyvista as pv\n",
    "from math import dist\n",
    "import numpy as np\n",
    "\n",
    "DATA_DIR = \"data/shapenet_samples/02828884/1a40eaf5919b1b3f3eaa2b95b99dae6\"\n",
    "camera = (-10, 0, 0)\n",
    "end = (14, .1, 0.06)\n",
    "end2 = (10, .8, 0.5)\n",
    "\n",
    "obj_texture = pv.read_texture(os.path.join(DATA_DIR, \"images/texture0.jpg\"))\n",
    "obj_mesh = pv.read(os.path.join(DATA_DIR, \"model.obj\"),)\n",
    "obj_mesh.rotate_vector(vector=(1, 0, 0), angle=90, inplace=True)\n",
    "\n",
    "line = pv.Line(pointa=camera, pointb=end, resolution= 1)\n",
    "line2 = pv.Line(pointa=camera, pointb=end2, resolution= 1)\n",
    "\n",
    "\n",
    "points1, ind1 = obj_mesh.ray_trace(camera, end)\n",
    "points2, ind1 = obj_mesh.ray_trace(camera, end2)\n",
    "\n",
    "in1, out1 = outRayFinder(points1)\n",
    "\n",
    "intersect11 = pv.Plane(center =  in1, direction = (1,0,0))\n",
    "\n",
    "# Depending on the object the actual out ray is not necessarily always the one after the in ray. So need to write a function that just finds the first point that is different from points1[0]\n",
    "intersect12 = pv.Plane(center = out1, direction = (1,0,0))\n",
    "\n",
    "# intersect21 = pv.Plane(center =  points2[0], direction = (1,0,0))\n",
    "# intersect22 = pv.Plane(center =  points2[1], direction = (1,0,0))\n",
    "\n",
    "pl = pv.Plotter()\n",
    "_ = pl.add_mesh(obj_mesh, show_edges=True, texture=obj_texture)\n",
    "_ = pl.add_mesh(line, color='red')\n",
    "_ = pl.add_mesh(line2, color='blue')\n",
    "\n",
    "_ = pl.add_mesh(intersect11, color='r', opacity=0.5)\n",
    "_ = pl.add_mesh(intersect12, color='r', opacity=0.5)\n",
    "\n",
    "# _ = pl.add_mesh(intersect21, color='b', opacity=0.5)\n",
    "# _ = pl.add_mesh(intersect22, color='b', opacity=0.5)\n",
    "\n",
    "\n",
    "print(\"Red Thickness:\", dist(in1, out1), \"PTS = \", in1, out1)\n",
    "# print(\"Blue Thickness:\", dist(points2[0],points2[1]))\n",
    "pl.show(jupyter_backend='pythreejs')"
   ]
  }
 ],
 "metadata": {
  "kernelspec": {
   "display_name": "Python 3.9.13 ('projectv2')",
   "language": "python",
   "name": "python3"
  },
  "language_info": {
   "codemirror_mode": {
    "name": "ipython",
    "version": 3
   },
   "file_extension": ".py",
   "mimetype": "text/x-python",
   "name": "python",
   "nbconvert_exporter": "python",
   "pygments_lexer": "ipython3",
   "version": "3.9.13"
  },
  "orig_nbformat": 4,
  "vscode": {
   "interpreter": {
    "hash": "190e7941172beaab895f71431ffb6c10a296ace1270d17e37aa561ec32dd9424"
   }
  }
 },
 "nbformat": 4,
 "nbformat_minor": 2
}
