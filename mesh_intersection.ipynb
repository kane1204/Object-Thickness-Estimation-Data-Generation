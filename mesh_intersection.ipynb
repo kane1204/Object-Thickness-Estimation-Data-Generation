{
 "cells": [
  {
   "cell_type": "code",
   "execution_count": 1,
   "metadata": {},
   "outputs": [
    {
     "name": "stdout",
     "output_type": "stream",
     "text": [
      "Red Thickness: 0.6447867155075073\n",
      "Blue Thickness: 0.6311161182450721\n"
     ]
    },
    {
     "data": {
      "application/vnd.jupyter.widget-view+json": {
       "model_id": "f8d2054fa9a74976babd63fa358c33d3",
       "version_major": 2,
       "version_minor": 0
      },
      "text/plain": [
       "Renderer(camera=PerspectiveCamera(aspect=1.3333333333333333, children=(DirectionalLight(intensity=0.25, positi…"
      ]
     },
     "metadata": {},
     "output_type": "display_data"
    }
   ],
   "source": [
    "import pyvista as pv\n",
    "from math import dist\n",
    "import numpy as np\n",
    "camera = (-10, 0, 0)\n",
    "end = (10, 0, 0)\n",
    "end2 = (10, .8, 0.5)\n",
    "\n",
    "cowtex = pv.read_texture('data\\cow_mesh\\cow_texture.png')\n",
    "# s1 = pv.Sphere(radius=0.85)\n",
    "cowmesh = pv.read('data\\cow_mesh\\cow.obj')\n",
    "cowmesh.rotate_vector(vector=(1, 0, 0), angle=90, inplace=True)\n",
    "line = pv.Line(pointa=camera, pointb=end, resolution= 1)\n",
    "line2 = pv.Line(pointa=camera, pointb=end2, resolution= 1)\n",
    "\n",
    "points1, ind1 = cowmesh.ray_trace(camera, end)\n",
    "points2, ind1 = cowmesh.ray_trace(camera, end2)\n",
    "\n",
    "\n",
    "intersect11 = pv.Plane(center =  points1[0], direction = (1,0,0))\n",
    "intersect12 = pv.Plane(center =  points1[1], direction = (1,0,0))\n",
    "\n",
    "intersect21 = pv.Plane(center =  points2[0], direction = (1,0,0))\n",
    "intersect22 = pv.Plane(center =  points2[1], direction = (1,0,0))\n",
    "\n",
    "pl = pv.Plotter()\n",
    "_ = pl.add_mesh(cowmesh, show_edges=True, texture=cowtex)\n",
    "_ = pl.add_mesh(line, color='red')\n",
    "_ = pl.add_mesh(line2, color='blue')\n",
    "\n",
    "_ = pl.add_mesh(intersect11, color='r', opacity=0.5)\n",
    "_ = pl.add_mesh(intersect12, color='r', opacity=0.5)\n",
    "\n",
    "_ = pl.add_mesh(intersect21, color='b', opacity=0.5)\n",
    "_ = pl.add_mesh(intersect22, color='b', opacity=0.5)\n",
    "\n",
    "\n",
    "print(\"Red Thickness:\", dist(points1[0],points1[1]))\n",
    "print(\"Blue Thickness:\", dist(points2[0],points2[1]))\n",
    "pl.show(jupyter_backend='pythreejs')"
   ]
  }
 ],
 "metadata": {
  "kernelspec": {
   "display_name": "Python 3.9.13 ('projectv2')",
   "language": "python",
   "name": "python3"
  },
  "language_info": {
   "codemirror_mode": {
    "name": "ipython",
    "version": 3
   },
   "file_extension": ".py",
   "mimetype": "text/x-python",
   "name": "python",
   "nbconvert_exporter": "python",
   "pygments_lexer": "ipython3",
   "version": "3.9.13"
  },
  "orig_nbformat": 4,
  "vscode": {
   "interpreter": {
    "hash": "190e7941172beaab895f71431ffb6c10a296ace1270d17e37aa561ec32dd9424"
   }
  }
 },
 "nbformat": 4,
 "nbformat_minor": 2
}
