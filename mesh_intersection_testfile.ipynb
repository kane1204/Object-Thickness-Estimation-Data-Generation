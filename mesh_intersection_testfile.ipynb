{
 "cells": [
  {
   "cell_type": "code",
   "execution_count": 1,
   "metadata": {},
   "outputs": [],
   "source": [
    "import os\n",
    "import pyvista as pv\n",
    "from math import dist\n",
    "import numpy as np"
   ]
  },
  {
   "cell_type": "code",
   "execution_count": 2,
   "metadata": {},
   "outputs": [],
   "source": [
    "def outRayFinder(pts):\n",
    "        if len(pts) == 0:\n",
    "                return None, None\n",
    "            # Find the first element in pts that is differnt from pts[0] and return that point onelin\n",
    "        if len(pts) > 2:\n",
    "            points = pts\n",
    "            # Create a unique list of 3d points \n",
    "            points = np.unique(pts, axis=0)\n",
    "            # Bug here with the idx bit\n",
    "            check = np.where(np.isclose(points, points[0])  != [True, True, True])[0]\n",
    "            leng = len(check)\n",
    "            if leng < 1:\n",
    "                return None, None\n",
    "            if leng == 1:\n",
    "                idx = check[0]\n",
    "            elif leng == 2:\n",
    "                idx = check[1]\n",
    "            elif leng >= 3:\n",
    "                idx = check[round(leng/2)]\n",
    "            return pts[0], pts[idx-1] # This does have some slight issues given a parallel intersection and no easy way of verifying if its an out ray or not so we naively return the last point\n",
    "\n",
    "        elif len(pts) == 2:\n",
    "            return pts[0], pts[1]\n",
    "        else:\n",
    "            return None,None"
   ]
  },
  {
   "cell_type": "code",
   "execution_count": 3,
   "metadata": {},
   "outputs": [
    {
     "name": "stdout",
     "output_type": "stream",
     "text": [
      "Blue Thickness: 0.31062223212652323\n"
     ]
    },
    {
     "data": {
      "application/vnd.jupyter.widget-view+json": {
       "model_id": "2573cc51a7d84df1bc753013e2cb99b7",
       "version_major": 2,
       "version_minor": 0
      },
      "text/plain": [
       "Renderer(camera=PerspectiveCamera(aspect=1.3333333333333333, children=(DirectionalLight(intensity=0.25, positi…"
      ]
     },
     "metadata": {},
     "output_type": "display_data"
    }
   ],
   "source": [
    "DATA_DIR = \"data/cow_mesh\"\n",
    "rotation = 75\n",
    "end = (15, 1.4, -0.2)\n",
    "end2 = (3, -.6, 0.4)\n",
    "\n",
    "camera = pv.Camera()\n",
    "# Camera Pos X(-5.0 to 5.0), Y(0.0 to 2.0), Z(0.0 to 5.0)\n",
    "camera.position =(-10, 0, 0)\n",
    "\n",
    "near_range = 0.3\n",
    "far_range = 10\n",
    "camera.clipping_range = (near_range, far_range)\n",
    "c_pos = np.array(camera.position)\n",
    "\n",
    "frustum = camera.view_frustum().copy()\n",
    "\n",
    "obj_texture = pv.read_texture(os.path.join(DATA_DIR, \"cow_texture.png\"))\n",
    "obj_mesh = pv.read(os.path.join(DATA_DIR, \"cow.obj\"),)\n",
    "obj_mesh.rotate_vector(vector=(0, 1, 0), angle=rotation, inplace=True)\n",
    "\n",
    "line = pv.Line(pointa=camera.position, pointb=end, resolution= 1)\n",
    "line2 = pv.Line(pointa=camera.position, pointb=end2, resolution= 1)\n",
    "\n",
    "points1, ind1 = obj_mesh.ray_trace(camera.position, end)\n",
    "points2, ind1 = obj_mesh.ray_trace(camera.position, end2)\n",
    "\n",
    "in1, out1, in2, out2 = None, None, None, None\n",
    "\n",
    "# in1, out1 = outRayFinder(points1)\n",
    "in2, out2 = outRayFinder(points2)\n",
    "\n",
    "pl = pv.Plotter()\n",
    "\n",
    "_ = pl.add_mesh(obj_mesh, texture=obj_texture,opacity=0.55)\n",
    "# _ = pl.add_mesh(line, color='red')\n",
    "_ = pl.add_mesh(line2, color='blue')\n",
    "# _ = pl.add_mesh(frustum, style=\"wireframe\",color=\"orange\")\n",
    "_ = pl.add_points(np.array(camera.position), color='white', point_size=15)\n",
    "if in1 is not None:\n",
    "    _ = pl.add_points(in1, color='red', point_size=25)\n",
    "    _ = pl.add_points(out1, color='red', point_size=25)\n",
    "    print(\"Red Thickness:\", dist(in1, out1))\n",
    "if in2 is not None:\n",
    "    _ = pl.add_points(in2, color='blue', point_size=25)\n",
    "    _ = pl.add_points( out2, color='blue', point_size=25)\n",
    "    print(\"Blue Thickness:\", dist(in2, out2))\n",
    "pl.camera = camera\n",
    "pl.show(jupyter_backend='pythreejs')"
   ]
  },
  {
   "cell_type": "code",
   "execution_count": 4,
   "metadata": {},
   "outputs": [
    {
     "data": {
      "text/plain": [
       "(vtkmodules.vtkRenderingAnnotation.vtkCubeAxesActor)000001C719A4CCA0"
      ]
     },
     "execution_count": 4,
     "metadata": {},
     "output_type": "execute_result"
    }
   ],
   "source": [
    "pl.show_bounds(grid='back', location='outer', all_edges=True)"
   ]
  }
 ],
 "metadata": {
  "kernelspec": {
   "display_name": "projectv2",
   "language": "python",
   "name": "python3"
  },
  "language_info": {
   "codemirror_mode": {
    "name": "ipython",
    "version": 3
   },
   "file_extension": ".py",
   "mimetype": "text/x-python",
   "name": "python",
   "nbconvert_exporter": "python",
   "pygments_lexer": "ipython3",
   "version": "3.9.13"
  },
  "orig_nbformat": 4,
  "vscode": {
   "interpreter": {
    "hash": "d7b7aadcbec42ca046cddc8be2bef3620b6ef517ac2a3a696d4553a73bf8e44a"
   }
  }
 },
 "nbformat": 4,
 "nbformat_minor": 2
}
