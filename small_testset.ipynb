{
 "cells": [
  {
   "cell_type": "code",
   "execution_count": null,
   "metadata": {},
   "outputs": [],
   "source": [
    "from src.model_loader import ModelLoader \n",
    "import numpy as np\n",
    "import pyvista as pv\n",
    "import matplotlib.pyplot as plt\n",
    "from src.stage import Stage\n",
    "\n",
    "DATA_ROOT = \"data\\\\shapenet_core_JK\"\n",
    "\n",
    "data = ModelLoader(DATA_ROOT)"
   ]
  },
  {
   "cell_type": "code",
   "execution_count": null,
   "metadata": {},
   "outputs": [],
   "source": [
    "# Create a list of models\n",
    "models = data.get_models(\"02958343\")"
   ]
  },
  {
   "cell_type": "code",
   "execution_count": null,
   "metadata": {},
   "outputs": [],
   "source": [
    "subset = [models[5]]"
   ]
  },
  {
   "cell_type": "code",
   "execution_count": null,
   "metadata": {},
   "outputs": [],
   "source": [
    "stage = Stage(subset, 7)\n",
    "stage.generate_scenes()"
   ]
  },
  {
   "cell_type": "code",
   "execution_count": null,
   "metadata": {},
   "outputs": [],
   "source": [
    "sample = 2\n",
    "\n",
    "\n",
    "instance = stage.data_frame.iloc[sample]"
   ]
  },
  {
   "cell_type": "code",
   "execution_count": null,
   "metadata": {},
   "outputs": [],
   "source": [
    "plt.figure()\n",
    "plt.imshow(instance['img'])\n",
    "\n",
    "plt.title('Image')\n",
    "plt.xlabel('X Pixel')\n",
    "plt.ylabel('Y Pixel')\n",
    "plt.show()"
   ]
  },
  {
   "cell_type": "code",
   "execution_count": null,
   "metadata": {},
   "outputs": [],
   "source": [
    "plt.figure()\n",
    "plt.imshow(instance['depth_map']*-1)\n",
    "plt.colorbar(label='Distance to Camera')\n",
    "plt.set_cmap('hot')\n",
    "plt.title('Depth image')\n",
    "plt.xlabel('X Pixel')\n",
    "plt.ylabel('Y Pixel')\n",
    "plt.show()"
   ]
  },
  {
   "cell_type": "code",
   "execution_count": null,
   "metadata": {},
   "outputs": [],
   "source": [
    "plt.figure()\n",
    "\n",
    "plt.imshow(instance['thicc_map'])\n",
    "\n",
    "plt.colorbar(label='Thichness of Object')\n",
    "plt.set_cmap('hot')\n",
    "plt.title('Thicc Image')\n",
    "plt.xlabel('X Pixel')\n",
    "plt.ylabel('Y Pixel')\n",
    "plt.show()"
   ]
  }
 ],
 "metadata": {
  "kernelspec": {
   "display_name": "projectv2",
   "language": "python",
   "name": "python3"
  },
  "language_info": {
   "codemirror_mode": {
    "name": "ipython",
    "version": 3
   },
   "file_extension": ".py",
   "mimetype": "text/x-python",
   "name": "python",
   "nbconvert_exporter": "python",
   "pygments_lexer": "ipython3",
   "version": "3.9.13"
  },
  "orig_nbformat": 4,
  "vscode": {
   "interpreter": {
    "hash": "270a635b83e65d335eba5d097089b0ff08369f0634f543893019998ee28e2990"
   }
  }
 },
 "nbformat": 4,
 "nbformat_minor": 2
}
