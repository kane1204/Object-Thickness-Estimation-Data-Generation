{
 "cells": [
  {
   "cell_type": "code",
   "execution_count": null,
   "metadata": {},
   "outputs": [],
   "source": [
    "from src.model_loader import ModelLoader \n",
    "import numpy as np\n",
    "import pyvista as pv\n",
    "import matplotlib.pyplot as plt\n",
    "from src.stage import Stage\n",
    "\n",
    "DATA_ROOT = \"data\\\\shapenet_samples\"\n",
    "\n",
    "data = ModelLoader(DATA_ROOT)"
   ]
  },
  {
   "cell_type": "code",
   "execution_count": null,
   "metadata": {},
   "outputs": [],
   "source": [
    "# Create a list of models\n",
    "models = data.get_models(\"cow_mesh\")\n",
    "\n",
    "stage = Stage(models, 4)\n",
    "stage.generate_scenes()"
   ]
  },
  {
   "cell_type": "code",
   "execution_count": null,
   "metadata": {},
   "outputs": [],
   "source": [
    "stage.data_frame"
   ]
  },
  {
   "cell_type": "code",
   "execution_count": null,
   "metadata": {},
   "outputs": [],
   "source": [
    "plt.figure()\n",
    "plt.imshow(depth_img)\n",
    "# plt.imshow(photo, alpha=0.5)\n",
    "\n",
    "plt.colorbar(label='Distance to Camera')\n",
    "plt.set_cmap('hot')\n",
    "plt.title('Depth image')\n",
    "plt.xlabel('X Pixel')\n",
    "plt.ylabel('Y Pixel')\n",
    "plt.show()"
   ]
  },
  {
   "cell_type": "code",
   "execution_count": null,
   "metadata": {},
   "outputs": [],
   "source": [
    "plt.figure()\n",
    "\n",
    "\n",
    "plt.imshow(thicc_map, alpha=0.8)\n",
    "\n",
    "plt.colorbar(label='Thichness of Moo Moo')\n",
    "plt.set_cmap('hot')\n",
    "plt.title('Thicc Image')\n",
    "plt.xlabel('X Pixel')\n",
    "plt.ylabel('Y Pixel')\n",
    "plt.show()"
   ]
  }
 ],
 "metadata": {
  "kernelspec": {
   "display_name": "projectv2",
   "language": "python",
   "name": "python3"
  },
  "language_info": {
   "codemirror_mode": {
    "name": "ipython",
    "version": 3
   },
   "file_extension": ".py",
   "mimetype": "text/x-python",
   "name": "python",
   "nbconvert_exporter": "python",
   "pygments_lexer": "ipython3",
   "version": "3.9.13"
  },
  "orig_nbformat": 4,
  "vscode": {
   "interpreter": {
    "hash": "190e7941172beaab895f71431ffb6c10a296ace1270d17e37aa561ec32dd9424"
   }
  }
 },
 "nbformat": 4,
 "nbformat_minor": 2
}
